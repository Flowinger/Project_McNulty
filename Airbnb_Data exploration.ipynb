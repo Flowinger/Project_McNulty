{
 "cells": [
  {
   "cell_type": "code",
   "execution_count": 2,
   "metadata": {
    "collapsed": false
   },
   "outputs": [],
   "source": [
    "from sklearn.neighbors import KNeighborsClassifier\n",
    "from sklearn.ensemble import RandomForestClassifier\n",
    "from sklearn.linear_model import SGDClassifier\n",
    "from sklearn.linear_model import LogisticRegression\n",
    "from sklearn.ensemble import GradientBoostingClassifier\n",
    "from sklearn.tree import DecisionTreeClassifier\n",
    "from sklearn.ensemble import AdaBoostClassifier\n",
    "from xgboost import XGBClassifier\n",
    "from sklearn import svm\n",
    "from sklearn.preprocessing import Imputer\n",
    "from sklearn.decomposition import PCA\n",
    "from sklearn.metrics import roc_curve, auc, accuracy_score, f1_score, precision_score, recall_score, confusion_matrix, cohen_kappa_score\n",
    "from sklearn.preprocessing import label_binarize\n",
    "from sklearn.preprocessing import LabelEncoder\n",
    "from sklearn.multiclass import OneVsRestClassifier\n",
    "from sklearn.model_selection import train_test_split\n",
    "from sklearn.model_selection import cross_val_score\n",
    "from sklearn.model_selection import GridSearchCV\n",
    "from sklearn.model_selection import RandomizedSearchCV\n",
    "from sklearn.model_selection import StratifiedShuffleSplit\n",
    "from sklearn.naive_bayes import GaussianNB\n",
    "from sklearn.naive_bayes import MultinomialNB\n",
    "import imblearn\n",
    "import matplotlib.pyplot as plt\n",
    "import seaborn as sns\n",
    "import pandas as pd\n",
    "import numpy as np\n",
    "% matplotlib inline"
   ]
  },
  {
   "cell_type": "code",
   "execution_count": 3,
   "metadata": {
    "collapsed": false
   },
   "outputs": [],
   "source": [
    "train = pd.read_csv('tr.csv')\n",
    "test = pd.read_csv('te.csv')"
   ]
  },
  {
   "cell_type": "code",
   "execution_count": 4,
   "metadata": {
    "collapsed": false
   },
   "outputs": [],
   "source": [
    "def into_int(col):\n",
    "    return df[col].map(lambda x: int(x))"
   ]
  },
  {
   "cell_type": "markdown",
   "metadata": {},
   "source": [
    "Combine train and test sets"
   ]
  },
  {
   "cell_type": "code",
   "execution_count": 5,
   "metadata": {
    "collapsed": false
   },
   "outputs": [],
   "source": [
    "df = pd.concat([train,test],ignore_index=True)"
   ]
  },
  {
   "cell_type": "markdown",
   "metadata": {},
   "source": [
    "Change '-unknown-' values in the 'gender' column to *NaN*."
   ]
  },
  {
   "cell_type": "code",
   "execution_count": 6,
   "metadata": {
    "collapsed": false
   },
   "outputs": [],
   "source": [
    "df['gender'].replace('-unknown-', np.nan, inplace=True)\n"
   ]
  },
  {
   "cell_type": "code",
   "execution_count": 7,
   "metadata": {
    "collapsed": false
   },
   "outputs": [
    {
     "data": {
      "text/plain": [
       "affiliate_channel               0\n",
       "affiliate_provider              0\n",
       "age                        116866\n",
       "country_destination         62096\n",
       "date_account_created            0\n",
       "date_first_booking         186639\n",
       "first_affiliate_tracked      6085\n",
       "first_browser                   0\n",
       "first_device_type               0\n",
       "gender                     129480\n",
       "id                              0\n",
       "language                        0\n",
       "signup_app                      0\n",
       "signup_flow                     0\n",
       "signup_method                   0\n",
       "timestamp_first_active          0\n",
       "dtype: int64"
      ]
     },
     "execution_count": 7,
     "metadata": {},
     "output_type": "execute_result"
    }
   ],
   "source": [
    "df.isnull().sum()"
   ]
  },
  {
   "cell_type": "code",
   "execution_count": 8,
   "metadata": {
    "collapsed": false
   },
   "outputs": [
    {
     "data": {
      "text/plain": [
       "count    158681.000000\n",
       "mean         47.145310\n",
       "std         142.629468\n",
       "min           1.000000\n",
       "25%          28.000000\n",
       "50%          33.000000\n",
       "75%          42.000000\n",
       "max        2014.000000\n",
       "Name: age, dtype: float64"
      ]
     },
     "execution_count": 8,
     "metadata": {},
     "output_type": "execute_result"
    }
   ],
   "source": [
    "df.age.describe()"
   ]
  },
  {
   "cell_type": "code",
   "execution_count": 9,
   "metadata": {
    "collapsed": false
   },
   "outputs": [
    {
     "data": {
      "text/plain": [
       "(830, 188)"
      ]
     },
     "execution_count": 9,
     "metadata": {},
     "output_type": "execute_result"
    }
   ],
   "source": [
    "sum(df.age > 122), sum(df.age < 18)"
   ]
  },
  {
   "cell_type": "code",
   "execution_count": 10,
   "metadata": {
    "collapsed": false
   },
   "outputs": [],
   "source": [
    "df.loc[df.age < 16, 'age'] = np.nan\n",
    "df.loc[df.age > 100, 'age'] = np.nan"
   ]
  },
  {
   "cell_type": "markdown",
   "metadata": {},
   "source": [
    "Drop *NaN* values in 'age' column."
   ]
  },
  {
   "cell_type": "code",
   "execution_count": 11,
   "metadata": {
    "collapsed": false
   },
   "outputs": [
    {
     "data": {
      "text/html": [
       "<div>\n",
       "<table border=\"1\" class=\"dataframe\">\n",
       "  <thead>\n",
       "    <tr style=\"text-align: right;\">\n",
       "      <th></th>\n",
       "      <th>affiliate_channel</th>\n",
       "      <th>affiliate_provider</th>\n",
       "      <th>age</th>\n",
       "      <th>country_destination</th>\n",
       "      <th>date_account_created</th>\n",
       "      <th>date_first_booking</th>\n",
       "      <th>first_affiliate_tracked</th>\n",
       "      <th>first_browser</th>\n",
       "      <th>first_device_type</th>\n",
       "      <th>gender</th>\n",
       "      <th>id</th>\n",
       "      <th>language</th>\n",
       "      <th>signup_app</th>\n",
       "      <th>signup_flow</th>\n",
       "      <th>signup_method</th>\n",
       "      <th>timestamp_first_active</th>\n",
       "    </tr>\n",
       "  </thead>\n",
       "  <tbody>\n",
       "    <tr>\n",
       "      <th>0</th>\n",
       "      <td>direct</td>\n",
       "      <td>direct</td>\n",
       "      <td>NaN</td>\n",
       "      <td>NDF</td>\n",
       "      <td>2010-06-28</td>\n",
       "      <td>NaN</td>\n",
       "      <td>untracked</td>\n",
       "      <td>Chrome</td>\n",
       "      <td>Mac Desktop</td>\n",
       "      <td>NaN</td>\n",
       "      <td>gxn3p5htnn</td>\n",
       "      <td>en</td>\n",
       "      <td>Web</td>\n",
       "      <td>0</td>\n",
       "      <td>facebook</td>\n",
       "      <td>20090319043255</td>\n",
       "    </tr>\n",
       "    <tr>\n",
       "      <th>1</th>\n",
       "      <td>seo</td>\n",
       "      <td>google</td>\n",
       "      <td>38.0</td>\n",
       "      <td>NDF</td>\n",
       "      <td>2011-05-25</td>\n",
       "      <td>NaN</td>\n",
       "      <td>untracked</td>\n",
       "      <td>Chrome</td>\n",
       "      <td>Mac Desktop</td>\n",
       "      <td>MALE</td>\n",
       "      <td>820tgsjxq7</td>\n",
       "      <td>en</td>\n",
       "      <td>Web</td>\n",
       "      <td>0</td>\n",
       "      <td>facebook</td>\n",
       "      <td>20090523174809</td>\n",
       "    </tr>\n",
       "    <tr>\n",
       "      <th>2</th>\n",
       "      <td>direct</td>\n",
       "      <td>direct</td>\n",
       "      <td>56.0</td>\n",
       "      <td>US</td>\n",
       "      <td>2010-09-28</td>\n",
       "      <td>2010-08-02</td>\n",
       "      <td>untracked</td>\n",
       "      <td>IE</td>\n",
       "      <td>Windows Desktop</td>\n",
       "      <td>FEMALE</td>\n",
       "      <td>4ft3gnwmtx</td>\n",
       "      <td>en</td>\n",
       "      <td>Web</td>\n",
       "      <td>3</td>\n",
       "      <td>basic</td>\n",
       "      <td>20090609231247</td>\n",
       "    </tr>\n",
       "    <tr>\n",
       "      <th>3</th>\n",
       "      <td>direct</td>\n",
       "      <td>direct</td>\n",
       "      <td>42.0</td>\n",
       "      <td>other</td>\n",
       "      <td>2011-12-05</td>\n",
       "      <td>2012-09-08</td>\n",
       "      <td>untracked</td>\n",
       "      <td>Firefox</td>\n",
       "      <td>Mac Desktop</td>\n",
       "      <td>FEMALE</td>\n",
       "      <td>bjjt8pjhuk</td>\n",
       "      <td>en</td>\n",
       "      <td>Web</td>\n",
       "      <td>0</td>\n",
       "      <td>facebook</td>\n",
       "      <td>20091031060129</td>\n",
       "    </tr>\n",
       "    <tr>\n",
       "      <th>4</th>\n",
       "      <td>direct</td>\n",
       "      <td>direct</td>\n",
       "      <td>41.0</td>\n",
       "      <td>US</td>\n",
       "      <td>2010-09-14</td>\n",
       "      <td>2010-02-18</td>\n",
       "      <td>untracked</td>\n",
       "      <td>Chrome</td>\n",
       "      <td>Mac Desktop</td>\n",
       "      <td>NaN</td>\n",
       "      <td>87mebub9p4</td>\n",
       "      <td>en</td>\n",
       "      <td>Web</td>\n",
       "      <td>0</td>\n",
       "      <td>basic</td>\n",
       "      <td>20091208061105</td>\n",
       "    </tr>\n",
       "  </tbody>\n",
       "</table>\n",
       "</div>"
      ],
      "text/plain": [
       "  affiliate_channel affiliate_provider   age country_destination  \\\n",
       "0            direct             direct   NaN                 NDF   \n",
       "1               seo             google  38.0                 NDF   \n",
       "2            direct             direct  56.0                  US   \n",
       "3            direct             direct  42.0               other   \n",
       "4            direct             direct  41.0                  US   \n",
       "\n",
       "  date_account_created date_first_booking first_affiliate_tracked  \\\n",
       "0           2010-06-28                NaN               untracked   \n",
       "1           2011-05-25                NaN               untracked   \n",
       "2           2010-09-28         2010-08-02               untracked   \n",
       "3           2011-12-05         2012-09-08               untracked   \n",
       "4           2010-09-14         2010-02-18               untracked   \n",
       "\n",
       "  first_browser first_device_type  gender          id language signup_app  \\\n",
       "0        Chrome       Mac Desktop     NaN  gxn3p5htnn       en        Web   \n",
       "1        Chrome       Mac Desktop    MALE  820tgsjxq7       en        Web   \n",
       "2            IE   Windows Desktop  FEMALE  4ft3gnwmtx       en        Web   \n",
       "3       Firefox       Mac Desktop  FEMALE  bjjt8pjhuk       en        Web   \n",
       "4        Chrome       Mac Desktop     NaN  87mebub9p4       en        Web   \n",
       "\n",
       "   signup_flow signup_method  timestamp_first_active  \n",
       "0            0      facebook          20090319043255  \n",
       "1            0      facebook          20090523174809  \n",
       "2            3         basic          20090609231247  \n",
       "3            0      facebook          20091031060129  \n",
       "4            0         basic          20091208061105  "
      ]
     },
     "execution_count": 11,
     "metadata": {},
     "output_type": "execute_result"
    }
   ],
   "source": [
    "df.head()"
   ]
  },
  {
   "cell_type": "code",
   "execution_count": 12,
   "metadata": {
    "collapsed": false
   },
   "outputs": [],
   "source": [
    "#df = df[(df['age'] < 100) & (df['age'] > 16)]"
   ]
  },
  {
   "cell_type": "code",
   "execution_count": 13,
   "metadata": {
    "collapsed": false
   },
   "outputs": [],
   "source": [
    "df['date_account_created'] = pd.to_datetime(df.loc[:,'date_account_created'])\n",
    "df['date_first_booking'] = pd.to_datetime(df.loc[:,'date_first_booking'])\n",
    "df['timestamp_first_active'] = pd.to_datetime(df.loc[:,'timestamp_first_active'], format='%Y%m%d%H%M%S')"
   ]
  },
  {
   "cell_type": "code",
   "execution_count": 14,
   "metadata": {
    "collapsed": false
   },
   "outputs": [],
   "source": [
    "categoricals = ['affiliate_channel','affiliate_provider','first_affiliate_tracked','first_browser','first_device_type',\n",
    "          'gender','language','signup_app','signup_flow','signup_method']\n",
    "for cat in categoricals:\n",
    "    df[cat] = df[cat].astype('category')"
   ]
  },
  {
   "cell_type": "code",
   "execution_count": null,
   "metadata": {
    "collapsed": false
   },
   "outputs": [],
   "source": []
  },
  {
   "cell_type": "markdown",
   "metadata": {},
   "source": [
    "Comparison between female and male for each country.\n",
    "-> seems to be no difference"
   ]
  },
  {
   "cell_type": "code",
   "execution_count": 15,
   "metadata": {
    "collapsed": false
   },
   "outputs": [
    {
     "data": {
      "text/plain": [
       "<matplotlib.legend.Legend at 0x111981be0>"
      ]
     },
     "execution_count": 15,
     "metadata": {},
     "output_type": "execute_result"
    },
    {
     "data": {
      "image/png": "[encoded data removed]",
      "text/plain": [
       "<matplotlib.figure.Figure at 0x111981ac8>"
      ]
     },
     "metadata": {},
     "output_type": "display_data"
    }
   ],
   "source": [
    "female = sum(df['gender'] == 'FEMALE')\n",
    "male = sum(df['gender'] == 'MALE')\n",
    "fem_dest = df.loc[df['gender'] == 'FEMALE', 'country_destination'].value_counts() / female * 100\n",
    "male_dest = df.loc[df['gender'] == 'MALE', 'country_destination'].value_counts() / male * 100\n",
    "fem_dest.plot(kind='bar',position=0,color='red', label='Female')\n",
    "male_dest.plot(kind='bar',position=1,color='blue', label='Male')\n",
    "plt.title('Travel destinations by gender')\n",
    "plt.legend()"
   ]
  },
  {
   "cell_type": "markdown",
   "metadata": {},
   "source": [
    "About 45% did not result in a booking (NDF)."
   ]
  },
  {
   "cell_type": "code",
   "execution_count": 58,
   "metadata": {
    "collapsed": false
   },
   "outputs": [
    {
     "data": {
      "text/plain": [
       "<matplotlib.text.Text at 0x121040cc0>"
      ]
     },
     "execution_count": 58,
     "metadata": {},
     "output_type": "execute_result"
    },
    {
     "data": {
      "image/png": "[encoded data removed]",
      "text/plain": [
       "<matplotlib.figure.Figure at 0x120f01e10>"
      ]
     },
     "metadata": {},
     "output_type": "display_data"
    }
   ],
   "source": [
    "(df.country_destination.value_counts()/len(df)*100).plot(kind='barh')\n",
    "plt.title('All classes')"
   ]
  },
  {
   "cell_type": "code",
   "execution_count": 27,
   "metadata": {
    "collapsed": false
   },
   "outputs": [
    {
     "data": {
      "text/plain": [
       "NDF      124543\n",
       "US        62376\n",
       "other     10094\n",
       "FR         5023\n",
       "IT         2835\n",
       "GB         2324\n",
       "ES         2249\n",
       "CA         1428\n",
       "DE         1061\n",
       "NL          762\n",
       "AU          539\n",
       "PT          217\n",
       "Name: country_destination, dtype: int64"
      ]
     },
     "execution_count": 27,
     "metadata": {},
     "output_type": "execute_result"
    }
   ],
   "source": [
    "df.country_destination.value_counts()"
   ]
  },
  {
   "cell_type": "code",
   "execution_count": 17,
   "metadata": {
    "collapsed": false
   },
   "outputs": [
    {
     "name": "stderr",
     "output_type": "stream",
     "text": [
      "/Users/flowinger/anaconda/lib/python3.5/site-packages/statsmodels/nonparametric/kdetools.py:20: VisibleDeprecationWarning: using a non-integer number instead of an integer will result in an error in the future\n",
      "  y = X[:m/2+1] + np.r_[0,X[m/2+1:],0]*1j\n"
     ]
    },
    {
     "data": {
      "text/plain": [
       "<matplotlib.text.Text at 0x1118d7898>"
      ]
     },
     "execution_count": 17,
     "metadata": {},
     "output_type": "execute_result"
    },
    {
     "data": {
      "image/png": "[encoded data removed]",
      "text/plain": [
       "<matplotlib.figure.Figure at 0x1115a2ef0>"
      ]
     },
     "metadata": {},
     "output_type": "display_data"
    }
   ],
   "source": [
    "sns.distplot(df.age.dropna(),color='green')\n",
    "plt.title('Distribution of age')"
   ]
  },
  {
   "cell_type": "markdown",
   "metadata": {},
   "source": [
    "96% of users have English as their prior language."
   ]
  },
  {
   "cell_type": "code",
   "execution_count": 18,
   "metadata": {
    "collapsed": false
   },
   "outputs": [
    {
     "data": {
      "text/plain": [
       "96.3675888323952"
      ]
     },
     "execution_count": 18,
     "metadata": {},
     "output_type": "execute_result"
    }
   ],
   "source": [
    "len(df[df.language == 'en'])/len(df)*100"
   ]
  },
  {
   "cell_type": "code",
   "execution_count": 19,
   "metadata": {
    "collapsed": false
   },
   "outputs": [
    {
     "data": {
      "text/plain": [
       "<matplotlib.axes._subplots.AxesSubplot at 0x1041ff240>"
      ]
     },
     "execution_count": 19,
     "metadata": {},
     "output_type": "execute_result"
    },
    {
     "data": {
      "image/png": "[encoded data removed]",
      "text/plain": [
       "<matplotlib.figure.Figure at 0x112634978>"
      ]
     },
     "metadata": {},
     "output_type": "display_data"
    }
   ],
   "source": [
    "plt.figure(figsize=(10,5))\n",
    "df.date_account_created.value_counts().plot(kind='line', color='green')"
   ]
  },
  {
   "cell_type": "code",
   "execution_count": 53,
   "metadata": {
    "collapsed": false
   },
   "outputs": [
    {
     "data": {
      "text/plain": [
       "array(['NDF', 'US', 'other', 'FR', 'CA', 'GB', 'ES', 'IT', 'PT', 'NL',\n",
       "       'DE', 'AU', nan], dtype=object)"
      ]
     },
     "execution_count": 53,
     "metadata": {},
     "output_type": "execute_result"
    }
   ],
   "source": [
    "df.country_destination.unique()"
   ]
  },
  {
   "cell_type": "code",
   "execution_count": 46,
   "metadata": {
    "collapsed": false
   },
   "outputs": [
    {
     "data": {
      "text/plain": [
       "<matplotlib.axes._subplots.AxesSubplot at 0x11c5a74a8>"
      ]
     },
     "execution_count": 46,
     "metadata": {},
     "output_type": "execute_result"
    },
    {
     "data": {
      "image/png": "[encoded data removed]",
      "text/plain": [
       "<matplotlib.figure.Figure at 0x11c5a7d68>"
      ]
     },
     "metadata": {},
     "output_type": "display_data"
    }
   ],
   "source": [
    "plt.figure(figsize=(10,5))\n",
    "df[df['country_destination'] == 'US'].date_account_created.value_counts().plot(kind='line', color='green')"
   ]
  },
  {
   "cell_type": "markdown",
   "metadata": {},
   "source": [
    "Plot by week days."
   ]
  },
  {
   "cell_type": "code",
   "execution_count": 20,
   "metadata": {
    "collapsed": false
   },
   "outputs": [],
   "source": [
    "days = []\n",
    "weekly = [days.append(i.weekday()) for i in df['date_account_created']]\n",
    "weekly = pd.Series(days)"
   ]
  },
  {
   "cell_type": "code",
   "execution_count": 23,
   "metadata": {
    "collapsed": false
   },
   "outputs": [
    {
     "data": {
      "text/plain": [
       "([<matplotlib.axis.XTick at 0x11116ca58>,\n",
       "  <matplotlib.axis.XTick at 0x110ece0b8>,\n",
       "  <matplotlib.axis.XTick at 0x1111ed1d0>,\n",
       "  <matplotlib.axis.XTick at 0x11140ffd0>,\n",
       "  <matplotlib.axis.XTick at 0x111414b00>,\n",
       "  <matplotlib.axis.XTick at 0x111417630>,\n",
       "  <matplotlib.axis.XTick at 0x11141b160>],\n",
       " <a list of 7 Text xticklabel objects>)"
      ]
     },
     "execution_count": 23,
     "metadata": {},
     "output_type": "execute_result"
    },
    {
     "data": {
      "image/png": "[encoded data removed]",
      "text/plain": [
       "<matplotlib.figure.Figure at 0x111981a20>"
      ]
     },
     "metadata": {},
     "output_type": "display_data"
    }
   ],
   "source": [
    "sns.barplot(weekly.value_counts().index,weekly.value_counts(),order=range(7))\n",
    "sns.despine()\n",
    "plt.title('Bookings per weekday')\n",
    "plt.xticks(range(7),('Mon','Tue','Wed','Thu','Fri','Sat','Sun'))"
   ]
  },
  {
   "cell_type": "markdown",
   "metadata": {},
   "source": [
    "Explore rest of the features:"
   ]
  },
  {
   "cell_type": "code",
   "execution_count": 21,
   "metadata": {
    "collapsed": false
   },
   "outputs": [
    {
     "data": {
      "text/plain": [
       "direct           181571\n",
       "sem-brand         36439\n",
       "sem-non-brand     20075\n",
       "seo               14362\n",
       "other              9547\n",
       "api                8167\n",
       "content            4118\n",
       "remarketing        1268\n",
       "Name: affiliate_channel, dtype: int64"
      ]
     },
     "execution_count": 21,
     "metadata": {},
     "output_type": "execute_result"
    }
   ],
   "source": [
    "df.affiliate_channel.value_counts()"
   ]
  },
  {
   "cell_type": "markdown",
   "metadata": {},
   "source": [
    "Group other, api, content, remarketing."
   ]
  },
  {
   "cell_type": "code",
   "execution_count": 22,
   "metadata": {
    "collapsed": true
   },
   "outputs": [],
   "source": [
    "df['affiliate_channel'] = df['affiliate_channel'].map(lambda x: 'other' if x in ['remarketing','content','api'] else x)"
   ]
  },
  {
   "cell_type": "code",
   "execution_count": 23,
   "metadata": {
    "collapsed": false
   },
   "outputs": [
    {
     "data": {
      "text/plain": [
       "direct                 181270\n",
       "google                  65956\n",
       "other                   13036\n",
       "facebook                 3996\n",
       "bing                     3719\n",
       "craigslist               3475\n",
       "padmapper                 836\n",
       "vast                      830\n",
       "yahoo                     653\n",
       "facebook-open-graph       566\n",
       "gsp                       455\n",
       "meetup                    358\n",
       "email-marketing           270\n",
       "naver                      66\n",
       "baidu                      32\n",
       "yandex                     18\n",
       "wayn                        8\n",
       "daum                        3\n",
       "Name: affiliate_provider, dtype: int64"
      ]
     },
     "execution_count": 23,
     "metadata": {},
     "output_type": "execute_result"
    }
   ],
   "source": [
    "df.affiliate_provider.value_counts()"
   ]
  },
  {
   "cell_type": "markdown",
   "metadata": {},
   "source": [
    "Group non-significant providers as 'other'."
   ]
  },
  {
   "cell_type": "code",
   "execution_count": 24,
   "metadata": {
    "collapsed": false
   },
   "outputs": [],
   "source": [
    "df['affiliate_provider'] = df['affiliate_provider'].map(lambda x: 'other' if x in ['naver','baidu','yandex','wayn','daum','email-marketing','meetup','gsp','facebook-open-graph','yahoo','vast','padmapper'] else x)"
   ]
  },
  {
   "cell_type": "code",
   "execution_count": 25,
   "metadata": {
    "collapsed": false
   },
   "outputs": [
    {
     "data": {
      "text/plain": [
       "<matplotlib.axes._subplots.AxesSubplot at 0x110f92278>"
      ]
     },
     "execution_count": 25,
     "metadata": {},
     "output_type": "execute_result"
    },
    {
     "data": {
      "image/png": "[encoded data removed]",
      "text/plain": [
       "<matplotlib.figure.Figure at 0x110eb2400>"
      ]
     },
     "metadata": {},
     "output_type": "display_data"
    }
   ],
   "source": [
    "df.affiliate_provider.value_counts().plot(kind='bar')"
   ]
  },
  {
   "cell_type": "code",
   "execution_count": 26,
   "metadata": {
    "collapsed": false
   },
   "outputs": [
    {
     "data": {
      "text/plain": [
       "untracked        143181\n",
       "linked            62064\n",
       "omg               54859\n",
       "tracked-other      6655\n",
       "product            2353\n",
       "marketing           281\n",
       "local ops            69\n",
       "Name: first_affiliate_tracked, dtype: int64"
      ]
     },
     "execution_count": 26,
     "metadata": {},
     "output_type": "execute_result"
    }
   ],
   "source": [
    "df.first_affiliate_tracked.value_counts()"
   ]
  },
  {
   "cell_type": "markdown",
   "metadata": {},
   "source": [
    "Group non-significant categories as 'other'."
   ]
  },
  {
   "cell_type": "code",
   "execution_count": 27,
   "metadata": {
    "collapsed": true
   },
   "outputs": [],
   "source": [
    "df['first_affiliate_tracked'] = df['first_affiliate_tracked'].map(lambda x: 'other' if x in ['product','tracked-other','marketing','local ops'] else x)\n"
   ]
  },
  {
   "cell_type": "code",
   "execution_count": 28,
   "metadata": {
    "collapsed": false
   },
   "outputs": [
    {
     "data": {
      "text/plain": [
       "Chrome                  78671\n",
       "Safari                  53302\n",
       "-unknown-               44394\n",
       "Firefox                 38665\n",
       "Mobile Safari           29636\n",
       "IE                      24744\n",
       "Chrome Mobile            3186\n",
       "Android Browser          1577\n",
       "AOL Explorer              254\n",
       "Opera                     228\n",
       "Silk                      172\n",
       "IE Mobile                 118\n",
       "BlackBerry Browser         89\n",
       "Chromium                   83\n",
       "Mobile Firefox             64\n",
       "Maxthon                    60\n",
       "Apple Mail                 45\n",
       "Sogou Explorer             43\n",
       "SiteKiosk                  27\n",
       "Iron                       24\n",
       "RockMelt                   24\n",
       "IceWeasel                  14\n",
       "Yandex.Browser             14\n",
       "Pale Moon                  13\n",
       "CometBird                  12\n",
       "SeaMonkey                  12\n",
       "Camino                      9\n",
       "Opera Mini                  8\n",
       "TenFourFox                  8\n",
       "wOSBrowser                  7\n",
       "CoolNovo                    6\n",
       "Avant Browser               4\n",
       "Opera Mobile                4\n",
       "Mozilla                     3\n",
       "Comodo Dragon               2\n",
       "TheWorld Browser            2\n",
       "Flock                       2\n",
       "SlimBrowser                 2\n",
       "Crazy Browser               2\n",
       "OmniWeb                     2\n",
       "PS Vita browser             1\n",
       "UC Browser                  1\n",
       "Stainless                   1\n",
       "Arora                       1\n",
       "Palm Pre web browser        1\n",
       "IceDragon                   1\n",
       "Outlook 2007                1\n",
       "Conkeror                    1\n",
       "Epic                        1\n",
       "Nintendo Browser            1\n",
       "Google Earth                1\n",
       "Googlebot                   1\n",
       "IBrowse                     1\n",
       "NetNewsWire                 1\n",
       "Kindle Browser              1\n",
       "Name: first_browser, dtype: int64"
      ]
     },
     "execution_count": 28,
     "metadata": {},
     "output_type": "execute_result"
    }
   ],
   "source": [
    "df.first_browser.value_counts()"
   ]
  },
  {
   "cell_type": "markdown",
   "metadata": {},
   "source": [
    "Group non-significant browsers as 'other'."
   ]
  },
  {
   "cell_type": "code",
   "execution_count": 29,
   "metadata": {
    "collapsed": false
   },
   "outputs": [],
   "source": [
    "df['first_browser'] = df['first_browser'].map(lambda x: 'other' if x not in ['Chrome','Safari','-unknown-','Firefox',\n",
    "                                                                             'Mobile Safari','IE','Chrome Mobile',\n",
    "                                                                            'Android Browser'] else x)"
   ]
  },
  {
   "cell_type": "code",
   "execution_count": 30,
   "metadata": {
    "collapsed": true
   },
   "outputs": [],
   "source": [
    "df['first_browser'] = df['first_browser'].map(lambda x: np.nan if x == '-unknown-' else x)"
   ]
  },
  {
   "cell_type": "code",
   "execution_count": 31,
   "metadata": {
    "collapsed": false
   },
   "outputs": [
    {
     "data": {
      "text/plain": [
       "<matplotlib.text.Text at 0x110e37a90>"
      ]
     },
     "execution_count": 31,
     "metadata": {},
     "output_type": "execute_result"
    },
    {
     "data": {
      "image/png": "[encoded data removed]",
      "text/plain": [
       "<matplotlib.figure.Figure at 0x110ea6400>"
      ]
     },
     "metadata": {},
     "output_type": "display_data"
    }
   ],
   "source": [
    "df.first_browser.value_counts().plot(kind='bar')\n",
    "plt.title('Browser used first')"
   ]
  },
  {
   "cell_type": "code",
   "execution_count": 32,
   "metadata": {
    "collapsed": false
   },
   "outputs": [
    {
     "data": {
      "text/plain": [
       "Mac Desktop           106328\n",
       "Windows Desktop        86948\n",
       "iPhone                 39814\n",
       "iPad                   18036\n",
       "Other/Unknown          11167\n",
       "Android Phone           9458\n",
       "Android Tablet          2098\n",
       "Desktop (Other)         1507\n",
       "SmartPhone (Other)       191\n",
       "Name: first_device_type, dtype: int64"
      ]
     },
     "execution_count": 32,
     "metadata": {},
     "output_type": "execute_result"
    }
   ],
   "source": [
    "df.first_device_type.value_counts()"
   ]
  },
  {
   "cell_type": "markdown",
   "metadata": {},
   "source": [
    "Group in Mobile, Desktop and Other."
   ]
  },
  {
   "cell_type": "code",
   "execution_count": 25,
   "metadata": {
    "collapsed": false
   },
   "outputs": [],
   "source": [
    "df['first_device_type'] = df['first_device_type'].map(lambda x: 'other' if x in ['Other/Unknown','SmartPhone (Other)'] else x)\n",
    "df['first_device_type'] = df['first_device_type'].map(lambda x: 'Desktop' if x in ['Mac Desktop','Windows Desktop','Desktop (Other)'] else x)\n",
    "df['first_device_type'] = df['first_device_type'].map(lambda x: 'Mobile' if x in ['iPhone','Android Phone','iPad','Android Tablet'] else x)"
   ]
  },
  {
   "cell_type": "code",
   "execution_count": 26,
   "metadata": {
    "collapsed": false
   },
   "outputs": [
    {
     "data": {
      "text/plain": [
       "<matplotlib.text.Text at 0x110ec2128>"
      ]
     },
     "execution_count": 26,
     "metadata": {},
     "output_type": "execute_result"
    },
    {
     "data": {
      "image/png": "[encoded data removed]",
      "text/plain": [
       "<matplotlib.figure.Figure at 0x110ecb898>"
      ]
     },
     "metadata": {},
     "output_type": "display_data"
    }
   ],
   "source": [
    "df.first_device_type.value_counts().plot(kind='bar')\n",
    "plt.title('Devices most used')"
   ]
  },
  {
   "cell_type": "code",
   "execution_count": 35,
   "metadata": {
    "collapsed": false
   },
   "outputs": [
    {
     "data": {
      "text/plain": [
       "FEMALE    77524\n",
       "MALE      68209\n",
       "OTHER       334\n",
       "Name: gender, dtype: int64"
      ]
     },
     "execution_count": 35,
     "metadata": {},
     "output_type": "execute_result"
    }
   ],
   "source": [
    "df.gender.value_counts()"
   ]
  },
  {
   "cell_type": "code",
   "execution_count": 36,
   "metadata": {
    "collapsed": false
   },
   "outputs": [
    {
     "data": {
      "text/plain": [
       "(275547, 213451)"
      ]
     },
     "execution_count": 36,
     "metadata": {},
     "output_type": "execute_result"
    }
   ],
   "source": [
    "len(df),len(df.country_destination.dropna())"
   ]
  },
  {
   "cell_type": "code",
   "execution_count": 37,
   "metadata": {
    "collapsed": false
   },
   "outputs": [
    {
     "data": {
      "text/plain": [
       "basic       198222\n",
       "facebook     74864\n",
       "google        2438\n",
       "weibo           23\n",
       "Name: signup_method, dtype: int64"
      ]
     },
     "execution_count": 37,
     "metadata": {},
     "output_type": "execute_result"
    }
   ],
   "source": [
    "df.signup_method.value_counts()"
   ]
  },
  {
   "cell_type": "code",
   "execution_count": 38,
   "metadata": {
    "collapsed": true
   },
   "outputs": [],
   "source": [
    "df['signup_method'] = df['signup_method'].map(lambda x: 'other' if x in ['facebook','google','weibo'] else x)"
   ]
  },
  {
   "cell_type": "code",
   "execution_count": 41,
   "metadata": {
    "collapsed": false
   },
   "outputs": [],
   "source": [
    "sessions = pd.read_csv('sessions_grouped.csv')"
   ]
  },
  {
   "cell_type": "code",
   "execution_count": null,
   "metadata": {
    "collapsed": false
   },
   "outputs": [],
   "source": [
    "s2 = sessions.groupby('user_id').agg(['count']).loc[:,'ratio'].reset_index()\n",
    "#s2.to_csv('sessions_edit.csv',index=False)\n",
    "sessions[sessions['action_detail'] == 'your_trips']\n",
    "sessions"
   ]
  },
  {
   "cell_type": "code",
   "execution_count": 86,
   "metadata": {
    "collapsed": false
   },
   "outputs": [],
   "source": [
    "trips = pd.read_csv('your_trips.csv')\n",
    "search = pd.read_csv('search_results.csv')\n",
    "user_profile = pd.read_csv('user_profile.csv')\n",
    "p5 = pd.read_csv('p5.csv')\n",
    "update_listing = pd.read_csv('update_listing.csv')\n",
    "bookings = pd.read_csv('booking_requests.csv')"
   ]
  },
  {
   "cell_type": "code",
   "execution_count": 93,
   "metadata": {
    "collapsed": false
   },
   "outputs": [
    {
     "data": {
      "text/plain": [
       "(87640, 57547, 31675, 17856, 14527, 11883)"
      ]
     },
     "execution_count": 93,
     "metadata": {},
     "output_type": "execute_result"
    }
   ],
   "source": [
    "len(search),len(user_profile),len(update_listing),len(bookings),len(trips),len(p5)\n"
   ]
  },
  {
   "cell_type": "markdown",
   "metadata": {},
   "source": [
    "Combine all action columns in one data frame."
   ]
  },
  {
   "cell_type": "code",
   "execution_count": 94,
   "metadata": {
    "collapsed": false
   },
   "outputs": [],
   "source": [
    "search = search.rename(columns={'action_view_trips':'action_search'})\n",
    "trips = trips.rename(columns={'count':'action_view_trips'})\n",
    "user_profile = user_profile.rename(columns={'count':'action_user_profile'})\n",
    "p5 = p5.rename(columns={'count':'action_p5'})\n",
    "update_listing = update_listing.rename(columns={'count':'action_update_listing'})\n",
    "bookings = bookings.rename(columns={'count':'action_booking_requests'})\n"
   ]
  },
  {
   "cell_type": "code",
   "execution_count": 141,
   "metadata": {
    "collapsed": false
   },
   "outputs": [],
   "source": [
    "df = df.rename(columns={'id':'user_id'})"
   ]
  },
  {
   "cell_type": "code",
   "execution_count": 123,
   "metadata": {
    "collapsed": false
   },
   "outputs": [],
   "source": [
    "search = search.groupby('user_id').agg('sum').reset_index()"
   ]
  },
  {
   "cell_type": "code",
   "execution_count": 144,
   "metadata": {
    "collapsed": false
   },
   "outputs": [],
   "source": [
    "combined = search.set_index('user_id').join(user_profile).set_index('user_id').reset_index()\n",
    "first_merge = df.merge(search,on='user_id',how='left')\n",
    "sec_merge = first_merge.merge(user_profile,on='user_id',how='left')\n",
    "third_merge = sec_merge.merge(update_listing,on='user_id',how='left')\n",
    "fourth_merge = third_merge.merge(bookings,on='user_id',how='left')\n",
    "fifth_merge = fourth_merge.merge(trips,on='user_id',how='left')\n",
    "sixth_merge = fifth_merge.merge(p5,on='user_id',how='left')"
   ]
  },
  {
   "cell_type": "code",
   "execution_count": 79,
   "metadata": {
    "collapsed": false
   },
   "outputs": [],
   "source": [
    "combined.fillna(0,inplace=True)"
   ]
  },
  {
   "cell_type": "code",
   "execution_count": 81,
   "metadata": {
    "collapsed": false
   },
   "outputs": [],
   "source": [
    "combined.action_view_trips = combined.action_view_trips.map(lambda x: int(x))"
   ]
  },
  {
   "cell_type": "code",
   "execution_count": 118,
   "metadata": {
    "collapsed": false
   },
   "outputs": [],
   "source": [
    "merged = df.merge(combined,left_on='id',right_on='user_id',how='left')"
   ]
  },
  {
   "cell_type": "markdown",
   "metadata": {},
   "source": [
    "# Modelling"
   ]
  },
  {
   "cell_type": "code",
   "execution_count": 14,
   "metadata": {
    "collapsed": true
   },
   "outputs": [],
   "source": [
    "def scores(ypred, ytest, xtest):\n",
    "    s = ['Precision','Recall','F1']\n",
    "    prec = precision_score(ytest,ypred,average='weighted')\n",
    "    rec = recall_score(ytest,ypred,average='weighted')\n",
    "    f1 = f1_score(ytest,ypred,average='weighted')\n",
    "    return sorted(list(zip(s,[prec,rec,f1])))\n",
    "#cross_val_score(xgb,X,y,cv=3,scoring='precision_weighted')"
   ]
  },
  {
   "cell_type": "code",
   "execution_count": 3,
   "metadata": {
    "collapsed": false
   },
   "outputs": [
    {
     "name": "stderr",
     "output_type": "stream",
     "text": [
      "/Users/flowinger/anaconda/lib/python3.5/site-packages/IPython/core/interactiveshell.py:2717: DtypeWarning: Columns (3,5) have mixed types. Specify dtype option on import or set low_memory=False.\n",
      "  interactivity=interactivity, compiler=compiler, result=result)\n"
     ]
    }
   ],
   "source": [
    "df = pd.read_csv('airbnb_0513_1226.csv')\n",
    "df_ext = pd.read_csv('airbnb_dfext1.csv')\n",
    "df_ext3 = pd.read_csv('airbnb_0513_2306.csv')"
   ]
  },
  {
   "cell_type": "code",
   "execution_count": null,
   "metadata": {
    "collapsed": true
   },
   "outputs": [],
   "source": [
    "df['action_booking_requests'] = df['action_booking_requests'].fillna(0).map(lambda x: int(x))\n",
    "df['action_p5'] = df['action_p5'].fillna(0).map(lambda x: int(x))\n",
    "df['action_search'] = df['action_search'].fillna(0).map(lambda x: int(x))\n",
    "df['action_update_listing'] = df['action_update_listing'].fillna(0).map(lambda x: int(x))\n",
    "df['action_user_profile'] = df['action_user_profile'].fillna(0).map(lambda x: int(x))\n",
    "df['action_view_trips'] = df['action_view_trips'].fillna(0).map(lambda x: int(x))\n"
   ]
  },
  {
   "cell_type": "markdown",
   "metadata": {},
   "source": [
    "#### Create date features"
   ]
  },
  {
   "cell_type": "code",
   "execution_count": 5,
   "metadata": {
    "collapsed": true
   },
   "outputs": [],
   "source": [
    "#df_ext3['booking_month'] = df_ext3['date_first_booking'].map(lambda x: pd.to_datetime(x).date().month)\n",
    "#df_ext3['account_month'] = df_ext3['date_account_created'].map(lambda x: pd.to_datetime(x).date().month)\n",
    "#df_ext3['timestamp_month'] = df_ext3['timestamp_first_active'].map(lambda x: pd.to_datetime(x).date().month)\n",
    "#df_ext3['booking_year'] = df_ext3['date_first_booking'].map(lambda x: pd.to_datetime(x).date().year)\n",
    "#df_ext3['account_year'] = df_ext3['date_account_created'].map(lambda x: pd.to_datetime(x).date().year)\n",
    "#df_ext3['timestamp_year'] = df_ext3['timestamp_first_active'].map(lambda x: pd.to_datetime(x).date().year)\n",
    "#df_ext3['booking_day'] = df_ext3['date_first_booking'].map(lambda x: pd.to_datetime(x).date().day)\n",
    "#df_ext3['account_day'] = df_ext3['date_account_created'].map(lambda x: pd.to_datetime(x).date().day)\n",
    "#df_ext3['timestamp_day'] = df_ext3['timestamp_first_active'].map(lambda x: pd.to_datetime(x).date().day)"
   ]
  },
  {
   "cell_type": "code",
   "execution_count": null,
   "metadata": {
    "collapsed": true
   },
   "outputs": [],
   "source": [
    "df_ext3 = pd.get_dummies(df_ext3,columns=['affiliate_channel','affiliate_provider','signup_method',\n",
    "                                   'first_affiliate_tracked'])"
   ]
  },
  {
   "cell_type": "code",
   "execution_count": null,
   "metadata": {
    "collapsed": false
   },
   "outputs": [],
   "source": [
    "# df_ext2 + action numerics\n",
    "metrics = pd.read_csv('action_numerics.csv')\n"
   ]
  },
  {
   "cell_type": "code",
   "execution_count": 6,
   "metadata": {
    "collapsed": false
   },
   "outputs": [
    {
     "data": {
      "text/plain": [
       "array(['NDF', 'US', 'other', 'FR', 'CA', 'GB', 'ES', 'IT', 'PT', 'NL',\n",
       "       'DE', 'AU'], dtype=object)"
      ]
     },
     "execution_count": 6,
     "metadata": {},
     "output_type": "execute_result"
    }
   ],
   "source": [
    "df_ext3.country_destination.unique()"
   ]
  },
  {
   "cell_type": "code",
   "execution_count": 7,
   "metadata": {
    "collapsed": false
   },
   "outputs": [
    {
     "data": {
      "text/html": [
       "<div>\n",
       "<table border=\"1\" class=\"dataframe\">\n",
       "  <thead>\n",
       "    <tr style=\"text-align: right;\">\n",
       "      <th></th>\n",
       "      <th>age</th>\n",
       "      <th>country_destination</th>\n",
       "      <th>date_account_created</th>\n",
       "      <th>date_first_booking</th>\n",
       "      <th>first_browser</th>\n",
       "      <th>gender</th>\n",
       "      <th>user_id</th>\n",
       "      <th>language</th>\n",
       "      <th>signup_app</th>\n",
       "      <th>signup_flow</th>\n",
       "      <th>...</th>\n",
       "      <th>first_affiliate_tracked_omg</th>\n",
       "      <th>first_affiliate_tracked_other</th>\n",
       "      <th>first_affiliate_tracked_untracked</th>\n",
       "      <th>timestamp_month</th>\n",
       "      <th>booking_year</th>\n",
       "      <th>account_year</th>\n",
       "      <th>timestamp_year</th>\n",
       "      <th>booking_day</th>\n",
       "      <th>account_day</th>\n",
       "      <th>timestamp_day</th>\n",
       "    </tr>\n",
       "  </thead>\n",
       "  <tbody>\n",
       "    <tr>\n",
       "      <th>0</th>\n",
       "      <td>NaN</td>\n",
       "      <td>NDF</td>\n",
       "      <td>2010-06-28</td>\n",
       "      <td>NaN</td>\n",
       "      <td>Chrome</td>\n",
       "      <td>NaN</td>\n",
       "      <td>gxn3p5htnn</td>\n",
       "      <td>en</td>\n",
       "      <td>Web</td>\n",
       "      <td>0</td>\n",
       "      <td>...</td>\n",
       "      <td>0</td>\n",
       "      <td>0</td>\n",
       "      <td>1</td>\n",
       "      <td>3</td>\n",
       "      <td>NaN</td>\n",
       "      <td>2010</td>\n",
       "      <td>2009</td>\n",
       "      <td>NaN</td>\n",
       "      <td>28</td>\n",
       "      <td>19</td>\n",
       "    </tr>\n",
       "    <tr>\n",
       "      <th>1</th>\n",
       "      <td>38.0</td>\n",
       "      <td>NDF</td>\n",
       "      <td>2011-05-25</td>\n",
       "      <td>NaN</td>\n",
       "      <td>Chrome</td>\n",
       "      <td>1.0</td>\n",
       "      <td>820tgsjxq7</td>\n",
       "      <td>en</td>\n",
       "      <td>Web</td>\n",
       "      <td>0</td>\n",
       "      <td>...</td>\n",
       "      <td>0</td>\n",
       "      <td>0</td>\n",
       "      <td>1</td>\n",
       "      <td>5</td>\n",
       "      <td>NaN</td>\n",
       "      <td>2011</td>\n",
       "      <td>2009</td>\n",
       "      <td>NaN</td>\n",
       "      <td>25</td>\n",
       "      <td>23</td>\n",
       "    </tr>\n",
       "    <tr>\n",
       "      <th>2</th>\n",
       "      <td>56.0</td>\n",
       "      <td>US</td>\n",
       "      <td>2010-09-28</td>\n",
       "      <td>2010-08-02</td>\n",
       "      <td>IE</td>\n",
       "      <td>0.0</td>\n",
       "      <td>4ft3gnwmtx</td>\n",
       "      <td>en</td>\n",
       "      <td>Web</td>\n",
       "      <td>3</td>\n",
       "      <td>...</td>\n",
       "      <td>0</td>\n",
       "      <td>0</td>\n",
       "      <td>1</td>\n",
       "      <td>6</td>\n",
       "      <td>2010.0</td>\n",
       "      <td>2010</td>\n",
       "      <td>2009</td>\n",
       "      <td>2.0</td>\n",
       "      <td>28</td>\n",
       "      <td>9</td>\n",
       "    </tr>\n",
       "    <tr>\n",
       "      <th>3</th>\n",
       "      <td>42.0</td>\n",
       "      <td>other</td>\n",
       "      <td>2011-12-05</td>\n",
       "      <td>2012-09-08</td>\n",
       "      <td>Firefox</td>\n",
       "      <td>0.0</td>\n",
       "      <td>bjjt8pjhuk</td>\n",
       "      <td>en</td>\n",
       "      <td>Web</td>\n",
       "      <td>0</td>\n",
       "      <td>...</td>\n",
       "      <td>0</td>\n",
       "      <td>0</td>\n",
       "      <td>1</td>\n",
       "      <td>10</td>\n",
       "      <td>2012.0</td>\n",
       "      <td>2011</td>\n",
       "      <td>2009</td>\n",
       "      <td>8.0</td>\n",
       "      <td>5</td>\n",
       "      <td>31</td>\n",
       "    </tr>\n",
       "    <tr>\n",
       "      <th>4</th>\n",
       "      <td>41.0</td>\n",
       "      <td>US</td>\n",
       "      <td>2010-09-14</td>\n",
       "      <td>2010-02-18</td>\n",
       "      <td>Chrome</td>\n",
       "      <td>NaN</td>\n",
       "      <td>87mebub9p4</td>\n",
       "      <td>en</td>\n",
       "      <td>Web</td>\n",
       "      <td>0</td>\n",
       "      <td>...</td>\n",
       "      <td>0</td>\n",
       "      <td>0</td>\n",
       "      <td>1</td>\n",
       "      <td>12</td>\n",
       "      <td>2010.0</td>\n",
       "      <td>2010</td>\n",
       "      <td>2009</td>\n",
       "      <td>18.0</td>\n",
       "      <td>14</td>\n",
       "      <td>8</td>\n",
       "    </tr>\n",
       "  </tbody>\n",
       "</table>\n",
       "<p>5 rows × 51 columns</p>\n",
       "</div>"
      ],
      "text/plain": [
       "    age country_destination date_account_created date_first_booking  \\\n",
       "0   NaN                 NDF           2010-06-28                NaN   \n",
       "1  38.0                 NDF           2011-05-25                NaN   \n",
       "2  56.0                  US           2010-09-28         2010-08-02   \n",
       "3  42.0               other           2011-12-05         2012-09-08   \n",
       "4  41.0                  US           2010-09-14         2010-02-18   \n",
       "\n",
       "  first_browser  gender     user_id language signup_app  signup_flow  \\\n",
       "0        Chrome     NaN  gxn3p5htnn       en        Web            0   \n",
       "1        Chrome     1.0  820tgsjxq7       en        Web            0   \n",
       "2            IE     0.0  4ft3gnwmtx       en        Web            3   \n",
       "3       Firefox     0.0  bjjt8pjhuk       en        Web            0   \n",
       "4        Chrome     NaN  87mebub9p4       en        Web            0   \n",
       "\n",
       "       ...       first_affiliate_tracked_omg  first_affiliate_tracked_other  \\\n",
       "0      ...                                 0                              0   \n",
       "1      ...                                 0                              0   \n",
       "2      ...                                 0                              0   \n",
       "3      ...                                 0                              0   \n",
       "4      ...                                 0                              0   \n",
       "\n",
       "   first_affiliate_tracked_untracked  timestamp_month  booking_year  \\\n",
       "0                                  1                3           NaN   \n",
       "1                                  1                5           NaN   \n",
       "2                                  1                6        2010.0   \n",
       "3                                  1               10        2012.0   \n",
       "4                                  1               12        2010.0   \n",
       "\n",
       "   account_year  timestamp_year  booking_day  account_day  timestamp_day  \n",
       "0          2010            2009          NaN           28             19  \n",
       "1          2011            2009          NaN           25             23  \n",
       "2          2010            2009          2.0           28              9  \n",
       "3          2011            2009          8.0            5             31  \n",
       "4          2010            2009         18.0           14              8  \n",
       "\n",
       "[5 rows x 51 columns]"
      ]
     },
     "execution_count": 7,
     "metadata": {},
     "output_type": "execute_result"
    }
   ],
   "source": [
    "df_ext3.head()"
   ]
  },
  {
   "cell_type": "code",
   "execution_count": 8,
   "metadata": {
    "collapsed": true
   },
   "outputs": [],
   "source": [
    "cols1 = ['action_search', 'action_user_profile', 'action_update_listing','action_booking_requests', \n",
    "        'action_view_trips', 'action_p5', 'age']\n",
    "cols2 = ['action_search', 'action_user_profile', 'action_update_listing','action_booking_requests', \n",
    "        'action_view_trips', 'action_p5', 'age','first_device_type_Desktop', 'first_device_type_Mobile',\n",
    "         'first_device_type_other', 'signup_method_basic','signup_method_other']\n",
    "# threw signup meth other, first device Mobile out\n",
    "cols3 = ['action_search', 'action_user_profile', 'action_update_listing','action_booking_requests', \n",
    "        'action_view_trips', 'action_p5', 'age','first_device_type_Desktop',\n",
    "         'first_device_type_other', 'signup_method_basic','signup_flow']\n",
    "cols4 = ['action_search', 'action_user_profile', 'action_update_listing','action_booking_requests', \n",
    "        'action_view_trips', 'action_p5', 'age','first_device_type_Desktop',\n",
    "         'first_device_type_other', 'signup_method_basic','signup_flow',\n",
    "         'affiliate_channel_direct', 'affiliate_channel_other',\n",
    "         'affiliate_channel_sem-brand', 'affiliate_channel_sem-non-brand',\n",
    "       'affiliate_channel_seo', 'affiliate_provider_bing',\n",
    "       'affiliate_provider_craigslist', 'affiliate_provider_direct',\n",
    "       'affiliate_provider_facebook', 'affiliate_provider_google',\n",
    "       'affiliate_provider_other', 'first_affiliate_tracked_linked',\n",
    "       'first_affiliate_tracked_omg', 'first_affiliate_tracked_other',\n",
    "       'first_affiliate_tracked_untracked']\n",
    "cols5 = ['action_search', 'action_user_profile', 'action_update_listing','action_booking_requests', \n",
    "        'action_view_trips', 'action_p5', 'age','signup_flow','affiliate_channel_other',\n",
    "        'affiliate_channel_sem-non-brand','booking_month','gender','timestamp_month']\n",
    "cols6 = ['action_search', 'action_user_profile', 'action_update_listing','action_booking_requests', \n",
    "        'action_view_trips', 'action_p5', 'age','signup_method_basic','signup_flow',\n",
    "          'affiliate_channel_other', 'affiliate_channel_sem-non-brand','first_affiliate_tracked_other',\n",
    "       'booking_month','sum','avg']\n",
    "cols7 = ['action_search', 'action_user_profile', 'action_update_listing','action_booking_requests', \n",
    "        'action_p5', 'age','signup_flow','affiliate_channel_other',\n",
    "        'affiliate_channel_sem-non-brand','booking_month','gender','timestamp_month',\n",
    "        'booking_year','account_year', 'booking_day', 'account_day','timestamp_day','sum','avg']\n",
    "cols8 = ['age', 'gender','signup_flow', 'action_search','action_user_profile', 'action_update_listing',\n",
    "       'action_booking_requests', 'action_view_trips', 'action_p5',\n",
    "       'count','stddev', 'max', 'booking_month',\n",
    "       'account_month','affiliate_provider_craigslist','timestamp_month', 'booking_year',\n",
    "       'account_year', 'booking_day', 'account_day']\n",
    "cols9 = ['age', 'gender','signup_flow', 'action_search','action_user_profile', 'action_update_listing',\n",
    "       'action_booking_requests', 'action_p5',\n",
    "       'count','max',\n",
    "       'affiliate_provider_craigslist','timestamp_month', 'booking_year',\n",
    "         'booking_day']\n",
    "cols10 = ['age', 'gender','signup_flow', 'action_search','action_user_profile', 'action_update_listing',\n",
    "       'action_booking_requests', 'action_p5',\n",
    "       'count','max',\n",
    "       'affiliate_provider_craigslist','account_month', 'account_year',\n",
    "         'account_day']\n",
    "cols11 = ['age','gender', 'signup_flow', 'action_search',\n",
    "       'action_update_listing',\n",
    "       'action_booking_requests', 'action_view_trips', 'action_p5',\n",
    "       'first_device_type_Desktop',\n",
    "       'first_device_type_other', 'signup_method_basic',\n",
    "       'count', 'sum', 'stddev', 'max','affiliate_channel_other','affiliate_channel_sem-non-brand',\n",
    "       'affiliate_provider_facebook',\n",
    "       'first_affiliate_tracked_omg',\n",
    "       'first_affiliate_tracked_untracked', 'timestamp_month',\n",
    "       'account_year', 'timestamp_year', 'sumcount']"
   ]
  },
  {
   "cell_type": "code",
   "execution_count": 10,
   "metadata": {
    "collapsed": true
   },
   "outputs": [],
   "source": [
    "df4 = pd.read_csv('final.csv')"
   ]
  },
  {
   "cell_type": "code",
   "execution_count": 11,
   "metadata": {
    "collapsed": false
   },
   "outputs": [],
   "source": [
    "X = df4.loc[:,cols11]\n",
    "y = df4.loc[:,'country_destination']"
   ]
  },
  {
   "cell_type": "code",
   "execution_count": null,
   "metadata": {
    "collapsed": true
   },
   "outputs": [],
   "source": [
    "df4['country_destination'] = df4['country_destination'].map(lambda x: 0 if x == 'NDF' else 1)"
   ]
  },
  {
   "cell_type": "markdown",
   "metadata": {},
   "source": [
    "XGBoost"
   ]
  },
  {
   "cell_type": "code",
   "execution_count": 12,
   "metadata": {
    "collapsed": false
   },
   "outputs": [
    {
     "data": {
      "text/plain": [
       "0.64640711554966057"
      ]
     },
     "execution_count": 12,
     "metadata": {},
     "output_type": "execute_result"
    }
   ],
   "source": [
    "X_train,X_test,y_train,y_test = train_test_split(X,y,test_size=0.3)\n",
    "\n",
    "xgb = XGBClassifier()\n",
    "xgb.fit(X_train,y_train)\n",
    "y_pred = xgb.predict(X_test)\n",
    "xgb.score(X_test,y_test)"
   ]
  },
  {
   "cell_type": "code",
   "execution_count": 13,
   "metadata": {
    "collapsed": false
   },
   "outputs": [
    {
     "data": {
      "text/plain": [
       "[(0.21155983, 'age'),\n",
       " (0.081758678, 'timestamp_month'),\n",
       " (0.068420403, 'action_p5'),\n",
       " (0.057922687, 'signup_flow'),\n",
       " (0.050883044, 'gender'),\n",
       " (0.049524516, 'signup_method_basic'),\n",
       " (0.047795478, 'stddev'),\n",
       " (0.044831418, 'account_year'),\n",
       " (0.044213906, 'sum'),\n",
       " (0.039150301, 'max'),\n",
       " (0.037915278, 'action_search'),\n",
       " (0.036556751, 'affiliate_channel_other'),\n",
       " (0.035445228, 'sumcount'),\n",
       " (0.033716191, 'action_update_listing'),\n",
       " (0.030134618, 'count'),\n",
       " (0.026429541, 'first_device_type_Desktop'),\n",
       " (0.022724466, 'action_booking_requests'),\n",
       " (0.014449797, 'action_view_trips'),\n",
       " (0.013708781, 'first_device_type_other'),\n",
       " (0.012350253, 'timestamp_year'),\n",
       " (0.012103248, 'first_affiliate_tracked_untracked'),\n",
       " (0.010744721, 'affiliate_channel_sem-non-brand'),\n",
       " (0.010374213, 'affiliate_provider_facebook'),\n",
       " (0.0072866492, 'first_affiliate_tracked_omg')]"
      ]
     },
     "execution_count": 13,
     "metadata": {},
     "output_type": "execute_result"
    }
   ],
   "source": [
    "sorted(list(zip(xgb.feature_importances_,X.columns)),reverse=True)"
   ]
  },
  {
   "cell_type": "code",
   "execution_count": null,
   "metadata": {
    "collapsed": true
   },
   "outputs": [],
   "source": []
  }
 ],
 "metadata": {
  "anaconda-cloud": {},
  "kernelspec": {
   "display_name": "Python [conda root]",
   "language": "python",
   "name": "conda-root-py"
  },
  "language_info": {
   "codemirror_mode": {
    "name": "ipython",
    "version": 3
   },
   "file_extension": ".py",
   "mimetype": "text/x-python",
   "name": "python",
   "nbconvert_exporter": "python",
   "pygments_lexer": "ipython3",
   "version": "3.5.2"
  }
 },
 "nbformat": 4,
 "nbformat_minor": 1
}
